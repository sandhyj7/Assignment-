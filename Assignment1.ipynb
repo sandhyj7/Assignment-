{
 "cells": [
  {
   "cell_type": "code",
   "execution_count": null,
   "id": "46036665-6ec9-4e93-830e-1bde80328fa7",
   "metadata": {},
   "outputs": [],
   "source": [
    "#Q1. Explain with an example each when to use a for loop and a while loop\n",
    "\n",
    "while loop is a control flow statement which allows code to be executed repeatedlyuntil the condition is true"
   ]
  },
  {
   "cell_type": "code",
   "execution_count": 1,
   "id": "e268a52d-5757-44f3-99bc-947719fea8e0",
   "metadata": {},
   "outputs": [
    {
     "name": "stdout",
     "output_type": "stream",
     "text": [
      "1\n",
      "2\n",
      "3\n",
      "4\n",
      "5\n"
     ]
    }
   ],
   "source": [
    "i=1\n",
    "n=5\n",
    "while i<=n:\n",
    "    print(i)\n",
    "    i=i+1"
   ]
  },
  {
   "cell_type": "code",
   "execution_count": 3,
   "id": "46b0d820-7a57-4201-af4f-2b38e54652ea",
   "metadata": {},
   "outputs": [],
   "source": [
    "#For loop is used for iterating over a sequence.This is less like the keyword .\n"
   ]
  },
  {
   "cell_type": "code",
   "execution_count": 5,
   "id": "faeec55e-865d-46ba-8ace-2fe8aa755ac6",
   "metadata": {},
   "outputs": [
    {
     "name": "stdout",
     "output_type": "stream",
     "text": [
      "ram\n",
      "sita\n",
      "laxman\n"
     ]
    }
   ],
   "source": [
    "l=[\"ram\",\"sita\",\"laxman\"]\n",
    "for i in l:\n",
    "    print(i)"
   ]
  },
  {
   "cell_type": "code",
   "execution_count": 6,
   "id": "737ff0a7-92a3-4290-856a-9e2f7557b5ae",
   "metadata": {},
   "outputs": [],
   "source": [
    "#Q2. Write a python program to print the sum and product of the first 10 natural numbers using for\n",
    "#and while loop."
   ]
  },
  {
   "cell_type": "code",
   "execution_count": 15,
   "id": "43582a83-d706-4ed9-8688-2bbc7b462a1d",
   "metadata": {},
   "outputs": [
    {
     "ename": "SyntaxError",
     "evalue": "invalid syntax (2589024704.py, line 5)",
     "output_type": "error",
     "traceback": [
      "\u001b[0;36m  Cell \u001b[0;32mIn[15], line 5\u001b[0;36m\u001b[0m\n\u001b[0;31m    elif:\u001b[0m\n\u001b[0m    ^\u001b[0m\n\u001b[0;31mSyntaxError\u001b[0m\u001b[0;31m:\u001b[0m invalid syntax\n"
     ]
    }
   ],
   "source": [
    "#sum of 10 natural numbers\n",
    "num =10\n",
    "if num<0:\n",
    "    print(\"enter a positive number\") \n",
    "    elif:\n",
    "        sum=0\n",
    "        while(num>0):\n",
    "            sum+=num\n",
    "            num-=1\n",
    "            print(\"the sum is\",sum)"
   ]
  },
  {
   "cell_type": "code",
   "execution_count": 18,
   "id": "80be0270-5e90-4052-9a49-c25c4f9396ed",
   "metadata": {},
   "outputs": [
    {
     "ename": "IndentationError",
     "evalue": "unexpected indent (2103687167.py, line 2)",
     "output_type": "error",
     "traceback": [
      "\u001b[0;36m  Cell \u001b[0;32mIn[18], line 2\u001b[0;36m\u001b[0m\n\u001b[0;31m    unit=int(input(\"enter your unit:\"))\u001b[0m\n\u001b[0m    ^\u001b[0m\n\u001b[0;31mIndentationError\u001b[0m\u001b[0;31m:\u001b[0m unexpected indent\n"
     ]
    }
   ],
   "source": [
    "#python program to calculate electriicty bill\n",
    " unit=int(input(\"enter your unit:\"))\n",
    "    if unit = 100:\n",
    "        bill =unit*4.5\n",
    "        elif unit >100 :\n",
    "        bill =unit*6\n",
    "        elif unit >200:\n",
    "            bill=unit*10\n",
    "            elif unit>300:\n",
    "                bill=unit*20\n",
    "                print(\" bill per unit :\",bill)\n",
    "                bill=bill+(unit*4.5)\n",
    "                 print(\" bill per unit :\",bill)\n",
    "                bill=bill+(unit*4.5)\n",
    "                 print(\" bill per unit :\",bill)\n",
    "                bill=bill+(unit*4.5)\n",
    "                "
   ]
  },
  {
   "cell_type": "code",
   "execution_count": 22,
   "id": "5ce69a6b-795b-481b-883a-96e36548285e",
   "metadata": {},
   "outputs": [
    {
     "ename": "IndentationError",
     "evalue": "unexpected indent (622988191.py, line 3)",
     "output_type": "error",
     "traceback": [
      "\u001b[0;36m  Cell \u001b[0;32mIn[22], line 3\u001b[0;36m\u001b[0m\n\u001b[0;31m    count=0\u001b[0m\n\u001b[0m    ^\u001b[0m\n\u001b[0;31mIndentationError\u001b[0m\u001b[0;31m:\u001b[0m unexpected indent\n"
     ]
    }
   ],
   "source": [
    "#Q5. Write a program to filter count vowels in the below-given string.\n",
    "#string = \"I want to become a data scientist\"\n",
    " count=0\n",
    "        vowel=set(\"I want to become a datascientist\")\n",
    "        for alphabet in str:\n",
    "            if alphabet in vowel :\n",
    "                count =count+1\n",
    "                print(\"No. of vowels :\",count)\n",
    "                str=\"GeelsorGeeks\"\n",
    "                vowel_count(str)"
   ]
  },
  {
   "cell_type": "code",
   "execution_count": 23,
   "id": "ceaddc99-3f6e-42b4-b74b-2b9c446de260",
   "metadata": {},
   "outputs": [
    {
     "name": "stdout",
     "output_type": "stream",
     "text": [
      "False\n",
      "True\n"
     ]
    }
   ],
   "source": [
    "def is_vowel(char):\n",
    "    all_vowels = 'aeiou'\n",
    "    return char in all_vowels\n",
    "print(is_vowel('c'))\n",
    "print(is_vowel('e'))"
   ]
  },
  {
   "cell_type": "code",
   "execution_count": 24,
   "id": "f3bf94a4-ccf6-4b63-88bb-dd6a49e9712b",
   "metadata": {},
   "outputs": [
    {
     "name": "stdin",
     "output_type": "stream",
     "text": [
      "Enter the string : I want to become a datascientist\n"
     ]
    },
    {
     "name": "stdout",
     "output_type": "stream",
     "text": [
      "Total vowels are :12\n"
     ]
    }
   ],
   "source": [
    "String = input('Enter the string :')\n",
    "count = 0\n",
    "#to check for less conditions\n",
    "#keep string in lowercase\n",
    "String = String.lower()\n",
    "for i in String:\n",
    "    if i == 'a' or i == 'e' or i == 'i' or i == 'o' or i == 'u':\n",
    "        #if True\n",
    "        count+=1\n",
    "#check if any vowel found\n",
    "if count == 0:\n",
    "    print('No vowels found')\n",
    "else:\n",
    "    print('Total vowels are :' + str(count))"
   ]
  },
  {
   "cell_type": "code",
   "execution_count": 27,
   "id": "784988a1-2061-425e-9dfc-8618447985f4",
   "metadata": {},
   "outputs": [
    {
     "name": "stdout",
     "output_type": "stream",
     "text": [
      "[1, 8, 27, 64]\n"
     ]
    }
   ],
   "source": [
    "#Q4. Create a list of numbers from 1 to 100. Use for loop and while loop to calculate the cube of each\n",
    "#number and if the cube of that number is divisible by 4 or 5 then append that number in a list and print\n",
    "#hat list.\n",
    "l = [1, 2, 3, 4]\n",
    "res = []\n",
    "for i in l:\n",
    "    res.append(i*i*i)\n",
    "\n",
    "print(res)"
   ]
  },
  {
   "cell_type": "code",
   "execution_count": 28,
   "id": "8ca47401-3295-403f-99ef-5a31bae661b7",
   "metadata": {},
   "outputs": [
    {
     "name": "stdout",
     "output_type": "stream",
     "text": [
      "[1, 8, 27, 64]\n"
     ]
    }
   ],
   "source": [
    "def cube_list_recursive(lst):\n",
    "    if len(lst) == 0:\n",
    "        return []\n",
    "    else:\n",
    "        return [lst[0]**3] + cube_list_recursive(lst[1:])\n",
    " \n",
    "\n",
    "l= [1, 2, 3, 4]\n",
    " \n",
    "# Cube List using loop\n",
    "res = cube_list_recursive(l)\n",
    " \n",
    "# printing result\n",
    "print(res)"
   ]
  },
  {
   "cell_type": "code",
   "execution_count": null,
   "id": "67e041dd-d053-4953-ac01-2ce1a7ba94be",
   "metadata": {},
   "outputs": [],
   "source": []
  }
 ],
 "metadata": {
  "kernelspec": {
   "display_name": "Python 3 (ipykernel)",
   "language": "python",
   "name": "python3"
  },
  "language_info": {
   "codemirror_mode": {
    "name": "ipython",
    "version": 3
   },
   "file_extension": ".py",
   "mimetype": "text/x-python",
   "name": "python",
   "nbconvert_exporter": "python",
   "pygments_lexer": "ipython3",
   "version": "3.10.8"
  }
 },
 "nbformat": 4,
 "nbformat_minor": 5
}
